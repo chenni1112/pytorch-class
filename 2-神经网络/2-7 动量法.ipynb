{
 "cells": [
  {
   "cell_type": "code",
   "execution_count": 1,
   "metadata": {
    "collapsed": true
   },
   "outputs": [],
   "source": [
    "def sig_momentum(parameters,vs,lr,gamma):\n",
    "    for param,v in zip(parameters,vs):\n",
    "        v[:]=gamma*v +lr *param.grad.data\n",
    "        param.data=para.data-v\n",
    "    "
   ]
  },
  {
   "cell_type": "code",
   "execution_count": 3,
   "metadata": {
    "collapsed": true
   },
   "outputs": [],
   "source": [
    "import numpy as np\n",
    "import torch\n",
    "from torchvision.datasets import MNIST \n",
    "from torch.utils.data import DataLoader\n",
    "from torch import nn\n",
    "from torch.autograd import Variable\n",
    "import time\n",
    "import matplotlib.pyplot as plt\n",
    "%matplotlib inline\n",
    "def data_tf(x):\n",
    "    x=np.array(x,dtype='float32')/ 255\n",
    "    x=(x - 0.5)\t/ 0.5 \n",
    "    x=x.reshape((-1,))\n",
    "    x=torch.from_numpy(x)\n",
    "    return x\n",
    "train_set=MNIST('./data',train=True,transform=data_tf,download=True)\n",
    "test_set=MNIST('./data',train=False,transform=data_tf,download=True)\n",
    "\n",
    "criterion=nn.CrossEntropyLoss()"
   ]
  },
  {
   "cell_type": "code",
   "execution_count": 4,
   "metadata": {
    "collapsed": true
   },
   "outputs": [],
   "source": [
    "train_data=DataLoader(train_set,batch_size=64,shuffle=True)"
   ]
  },
  {
   "cell_type": "code",
   "execution_count": 5,
   "metadata": {
    "collapsed": true
   },
   "outputs": [],
   "source": [
    "net=nn.Sequential(\n",
    "    nn.Linear(784,200),\n",
    "    nn.ReLU(),\n",
    "    nn.Linear(200,10),\n",
    ")"
   ]
  },
  {
   "cell_type": "code",
   "execution_count": null,
   "metadata": {
    "collapsed": true
   },
   "outputs": [],
   "source": [
    "# 将速度初始化为和参数形状相同的零张量\n",
    "vs=[]\n",
    "for param in net.parameters():\n",
    "    vs.append(torch.zeros_like(param.data))\n",
    "    \n",
    "# 开始训练\n",
    "losses=[]\n",
    "start=time.time() # 记时开始\n",
    "for e in range(5):\n",
    "    train_loss=0\n",
    "    for im,label in train_data:\n",
    "        im=Variable(im)\n",
    "        label=Variable(label)\n",
    "        # 前向传播\n",
    "        out=net(im)\n",
    "        loss=criterion(out,label)\n",
    "        # 反向传播\n",
    "        net.zero_grad()\n",
    "        loss.backward()\n",
    "        sig_momentum(net.parameters(),vs,1e-2,0.9) # 使用0.01 的学习率,动量0.9\n",
    "        # 记录误差\n",
    "        train_loss +=loss.data.numpy()\n",
    "        if idx %30 ==0:\n",
    "            losses1.append(loss.data.numpy())\n",
    "        idx +=1\n",
    "    print(e,train_loss/len(train_data))\n",
    "end=time.time()\n",
    "print(start-end)"
   ]
  },
  {
   "cell_type": "code",
   "execution_count": null,
   "metadata": {
    "collapsed": true
   },
   "outputs": [],
   "source": [
    "# loss 下降快，pytorch 中的\n",
    "optimizer=torch.optim.SGD(net.parameters(),lr=1e-2,momentum=0.9) # 加动量后，loss 下降的程度更低"
   ]
  }
 ],
 "metadata": {
  "anaconda-cloud": {},
  "kernelspec": {
   "display_name": "Python [conda env:Anaconda3]",
   "language": "python",
   "name": "conda-env-Anaconda3-py"
  },
  "language_info": {
   "codemirror_mode": {
    "name": "ipython",
    "version": 3
   },
   "file_extension": ".py",
   "mimetype": "text/x-python",
   "name": "python",
   "nbconvert_exporter": "python",
   "pygments_lexer": "ipython3",
   "version": "3.5.6"
  }
 },
 "nbformat": 4,
 "nbformat_minor": 1
}
