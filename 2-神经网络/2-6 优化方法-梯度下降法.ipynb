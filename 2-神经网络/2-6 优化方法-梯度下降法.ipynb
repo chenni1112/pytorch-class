{
 "cells": [
  {
   "cell_type": "code",
   "execution_count": 1,
   "metadata": {
    "collapsed": true
   },
   "outputs": [],
   "source": [
    "import numpy as np\n",
    "import torch\n",
    "from torchvision.datasets import MNIST\n",
    "from torch.utils.data import DataLoader\n",
    "from torch import nn\n",
    "from torch.autograd import Variable\n",
    "import time\n",
    "import matplotlib.pyplot as plt\n",
    "%matplotlib inline"
   ]
  },
  {
   "cell_type": "code",
   "execution_count": 4,
   "metadata": {
    "collapsed": false
   },
   "outputs": [],
   "source": [
    "def data_tf(x):\n",
    "    x=np.array(x,dtype=\"float32\")/255 # 将数据变到0~1 之间\n",
    "    x=(x-0.5)/0.5 # 标准化\n",
    "    x=x.reshape((-1,)) # 拉平\n",
    "    x=torch.from_numpy(x)\n",
    "    return x\n",
    "\n",
    "train_set=MNIST(\"./data\",train=True,transform=data_tf,download=True)\n",
    "test_set=MNIST(\"./data\",train=False,transform=data_tf,download=True)"
   ]
  },
  {
   "cell_type": "code",
   "execution_count": 5,
   "metadata": {
    "collapsed": true
   },
   "outputs": [],
   "source": [
    "#loss 函数 \n",
    "criterion=nn.CrossEntropyLoss()"
   ]
  },
  {
   "cell_type": "code",
   "execution_count": 6,
   "metadata": {
    "collapsed": true
   },
   "outputs": [],
   "source": [
    "def sgd_update(parameters,lr):\n",
    "    for param in parameters:\n",
    "        param.data=param.data-lr*param.grad.data"
   ]
  },
  {
   "cell_type": "code",
   "execution_count": 7,
   "metadata": {
    "collapsed": true
   },
   "outputs": [],
   "source": [
    "# 先将batch size 设置为1，看看有没有什么效果，再改成64，发现震荡不那么剧烈\n",
    "train_data=DataLoader(train_set,batch_size=1,shuffle=True)\n",
    "# 使用Sequential 定义三层神经网络\n",
    "net=nn.Sequential(\n",
    "    nn.Linear(784,200),\n",
    "    nn.ReLU(),\n",
    "    nn.Linear(200,10),\n",
    ")"
   ]
  },
  {
   "cell_type": "code",
   "execution_count": 11,
   "metadata": {
    "collapsed": false
   },
   "outputs": [
    {
     "name": "stdout",
     "output_type": "stream",
     "text": [
      "0 0.3475302638133367\n",
      "1 0.21455284684499104\n",
      "2 0.17564249782363572\n",
      "3 0.1579562781949838\n",
      "4 0.1393800068616867\n",
      "-666.8412811756134\n"
     ]
    }
   ],
   "source": [
    "# 开始训练\n",
    "losses1=[]\n",
    "idx=0\n",
    "start=time.time()\n",
    "\n",
    "for e in range(5):\n",
    "    train_loss=0\n",
    "    for im,label in train_data:\n",
    "        im=Variable(im)\n",
    "        label=Variable(label)\n",
    "        # 前向传播\n",
    "        out=net(im)\n",
    "        loss=criterion(out,label)\n",
    "        # 反向传播\n",
    "        net.zero_grad()\n",
    "        loss.backward()\n",
    "        sgd_update(net.parameters(),1e-2) # 使用0.01 的学习率\n",
    "        # 记录误差\n",
    "        train_loss +=loss.data.numpy()\n",
    "        if idx %30 ==0:\n",
    "            losses1.append(loss.data.numpy())\n",
    "        idx +=1\n",
    "    print(e,train_loss/len(train_data))\n",
    "end=time.time()\n",
    "print(start-end)"
   ]
  },
  {
   "cell_type": "code",
   "execution_count": 13,
   "metadata": {
    "collapsed": false
   },
   "outputs": [
    {
     "data": {
      "text/plain": [
       "10000"
      ]
     },
     "execution_count": 13,
     "metadata": {},
     "output_type": "execute_result"
    }
   ],
   "source": [
    "len(losses1)"
   ]
  },
  {
   "cell_type": "code",
   "execution_count": 16,
   "metadata": {
    "collapsed": false
   },
   "outputs": [],
   "source": [
    "x_axis=np.linspace(0,5,len(losses1),endpoint=True)"
   ]
  },
  {
   "cell_type": "code",
   "execution_count": 17,
   "metadata": {
    "collapsed": false
   },
   "outputs": [
    {
     "data": {
      "text/plain": [
       "<matplotlib.legend.Legend at 0x1da4b53b940>"
      ]
     },
     "execution_count": 17,
     "metadata": {},
     "output_type": "execute_result"
    },
    {
     "data": {
      "image/png": "[encoded data removed]",
      "text/plain": [
       "<matplotlib.figure.Figure at 0x1da4b53b978>"
      ]
     },
     "metadata": {},
     "output_type": "display_data"
    }
   ],
   "source": [
    "plt.semilogy(x_axis,losses1,label=\"batch_size=1\")\n",
    "plt.legend(loc=\"best\")"
   ]
  },
  {
   "cell_type": "code",
   "execution_count": null,
   "metadata": {
    "collapsed": true
   },
   "outputs": [],
   "source": [
    "# batch_size改成64，发现震荡不那么剧烈\n",
    "# 如果batch_size 太大，对于内存的需求更高，同时不利于网络跳出局部极小点，\n"
   ]
  },
  {
   "cell_type": "code",
   "execution_count": null,
   "metadata": {
    "collapsed": true
   },
   "outputs": [],
   "source": [
    "# 使用pytorch 自带的优化器 实现梯度下降\n",
    "train_data=DataLoader(train_set,batch_size=64,shuffle=True)\n",
    "# 使用Sequential 定义三层神经网络\n",
    "net=nn.Sequential(\n",
    "    nn.Linear(784,200),\n",
    "    nn.ReLU(),\n",
    "    nn.Linear(200,10),\n",
    ")"
   ]
  },
  {
   "cell_type": "code",
   "execution_count": 18,
   "metadata": {
    "collapsed": true
   },
   "outputs": [],
   "source": [
    "optimzier=torch.optim.SGD(net.parameters(),1e-2)\n",
    "\n",
    "start=time.time()"
   ]
  },
  {
   "cell_type": "code",
   "execution_count": null,
   "metadata": {
    "collapsed": true
   },
   "outputs": [],
   "source": [
    "for e in range(5):\n",
    "    train_loss=0\n",
    "    for im,label in train_data:\n",
    "        im=Variable(im)\n",
    "        label=Variable(label)\n",
    "        # 前向传播\n",
    "        out=net(im)\n",
    "        loss=criterion(out,label)\n",
    "        # 反向传播\n",
    "        net.zero_grad()\n",
    "        loss.backward()"
   ]
  }
 ],
 "metadata": {
  "anaconda-cloud": {},
  "kernelspec": {
   "display_name": "Python [conda env:Anaconda3]",
   "language": "python",
   "name": "conda-env-Anaconda3-py"
  },
  "language_info": {
   "codemirror_mode": {
    "name": "ipython",
    "version": 3
   },
   "file_extension": ".py",
   "mimetype": "text/x-python",
   "name": "python",
   "nbconvert_exporter": "python",
   "pygments_lexer": "ipython3",
   "version": "3.5.6"
  }
 },
 "nbformat": 4,
 "nbformat_minor": 1
}
