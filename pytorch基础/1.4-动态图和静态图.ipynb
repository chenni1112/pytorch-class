{
 "cells": [
  {
   "cell_type": "code",
   "execution_count": null,
   "metadata": {
    "collapsed": true
   },
   "outputs": [],
   "source": [
    "tensorflow 使用静态图，需要先定义计算图，然后不断使用它，pytorch 中每次都会重新构建一个新的计算图\n",
    "\n"
   ]
  },
  {
   "cell_type": "code",
   "execution_count": null,
   "metadata": {
    "collapsed": false,
    "slideshow": {
     "slide_type": "skip"
    }
   },
   "outputs": [],
   "source": [
    "\n",
    "# while 语句在tensorflow 的定义\n",
    "import tensorflow as tf\n",
    "first_counter=tf.constant(0)\n",
    "second_counter=tf.constant(10)"
   ]
  },
  {
   "cell_type": "code",
   "execution_count": null,
   "metadata": {
    "collapsed": true
   },
   "outputs": [],
   "source": [
    "def cond(first_counter,second_counter,*args):\n",
    "    return frist_counter< second_conter\n",
    "\n",
    "def body(first_counter,second_counter):\n",
    "    first_counter=tf.add(first_counter,2)\n",
    "    second_counter=tf.add(second_counter,1)\n",
    "    return first_counter,second_counter\n",
    "\n",
    "c1,c2=tf.while_loop(cond,body,[first_counter,second_counter])\n",
    "with tf.Session() as sess:\n",
    "    counter_1_res,counter_2_res=sess.run([c1,c2])\n",
    "    \n",
    "print(counter_1_res)\n",
    "print(counter_2_res)"
   ]
  },
  {
   "cell_type": "code",
   "execution_count": 4,
   "metadata": {
    "collapsed": false
   },
   "outputs": [
    {
     "name": "stdout",
     "output_type": "stream",
     "text": [
      "tensor([20.])\n",
      "tensor([20.])\n"
     ]
    }
   ],
   "source": [
    "#pytorch\n",
    "import  torch\n",
    "first_counter=torch.Tensor([0])\n",
    "second_counter=torch.Tensor([10])\n",
    "while (first_counter < second_counter)[0]:\n",
    "    first_counter +=2\n",
    "    second_counter +=1\n",
    "print(first_counter)\n",
    "print(second_counter)"
   ]
  },
  {
   "cell_type": "code",
   "execution_count": null,
   "metadata": {
    "collapsed": true
   },
   "outputs": [],
   "source": [
    "# pytorch 的写法和python的写法一致 ，简洁直接"
   ]
  }
 ],
 "metadata": {
  "anaconda-cloud": {},
  "celltoolbar": "Slideshow",
  "kernelspec": {
   "display_name": "Python [conda env:Anaconda3]",
   "language": "python",
   "name": "conda-env-Anaconda3-py"
  },
  "language_info": {
   "codemirror_mode": {
    "name": "ipython",
    "version": 3
   },
   "file_extension": ".py",
   "mimetype": "text/x-python",
   "name": "python",
   "nbconvert_exporter": "python",
   "pygments_lexer": "ipython3",
   "version": "3.5.6"
  }
 },
 "nbformat": 4,
 "nbformat_minor": 1
}
