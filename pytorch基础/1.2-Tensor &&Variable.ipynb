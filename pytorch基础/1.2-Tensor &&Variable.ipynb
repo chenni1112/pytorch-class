{
 "cells": [
  {
   "cell_type": "code",
   "execution_count": 1,
   "metadata": {
    "collapsed": true
   },
   "outputs": [],
   "source": [
    "import  torch \n",
    "import  numpy as  np"
   ]
  },
  {
   "cell_type": "code",
   "execution_count": null,
   "metadata": {
    "collapsed": true
   },
   "outputs": [],
   "source": [
    "#(1) 把pytorch 当做numpy 用"
   ]
  },
  {
   "cell_type": "code",
   "execution_count": 3,
   "metadata": {
    "collapsed": false
   },
   "outputs": [
    {
     "data": {
      "text/plain": [
       "array([[-0.7428665 ,  0.24432058,  0.48104063,  0.46688667, -1.30997889,\n",
       "         0.12178083,  0.09262233,  1.17497306, -1.00183638, -0.52041952,\n",
       "        -0.91918255,  0.70681788, -0.60497292,  1.08584024,  0.01974877,\n",
       "        -1.46892824,  0.38748541, -1.3127453 ,  2.31597317,  0.52606613],\n",
       "       [ 0.49657585, -0.59327057,  0.70738592,  0.92489122,  0.77333442,\n",
       "         1.10065364,  1.54608522, -0.13687368, -0.67384725, -0.7657365 ,\n",
       "         0.56459205, -0.48102726,  1.29347055,  0.47518683,  0.75708063,\n",
       "         1.33075312,  2.7335927 ,  1.19967841,  1.85685338,  0.30414079],\n",
       "       [-0.39452688, -0.53110794, -0.01623142, -0.273965  , -0.93686771,\n",
       "        -0.48453209, -0.35171249,  2.61516985,  0.86207747, -2.21542938,\n",
       "        -0.23711762, -1.41682503, -0.5507648 , -1.64568847, -0.45402587,\n",
       "         1.0028114 ,  0.77980455, -2.24731026, -0.13983777, -0.84766321],\n",
       "       [ 0.27412542,  0.66391736,  1.0927383 ,  0.78080802, -1.3010981 ,\n",
       "         0.46044852, -1.01144279,  0.19961489,  0.17048964,  0.74340757,\n",
       "        -0.51499514, -1.54502578, -0.08211272, -1.11912796,  1.64901493,\n",
       "         0.72866476, -0.8546069 ,  1.14670275, -0.29015293,  1.73797765],\n",
       "       [-0.37417523, -0.14462069,  0.25261302,  0.5225418 ,  0.62535256,\n",
       "        -1.77513773, -0.52430766,  0.4311419 ,  0.65989595, -0.07230384,\n",
       "        -0.40656632,  1.67555212, -0.92923452,  0.75159356,  0.96419157,\n",
       "        -1.12106727,  1.66418173, -0.23480547,  1.23222819, -0.11683162],\n",
       "       [ 1.57456061, -0.50865485,  0.072484  ,  0.14533621, -0.04715947,\n",
       "        -1.79237726, -0.67011134, -0.33541893,  0.19340766,  0.15028334,\n",
       "         0.96500307,  0.07419199,  0.16551817, -0.50561525,  0.38518806,\n",
       "        -0.96448199, -0.00720823,  2.09301243, -1.60684338, -1.47295126],\n",
       "       [-0.87981495, -0.89218356, -0.10700531,  0.32814202, -1.56187468,\n",
       "        -0.31596611,  0.4793391 ,  0.47750171, -2.79736101, -2.34178115,\n",
       "        -0.13929513, -0.27125114, -0.046821  , -0.67248165,  1.16079024,\n",
       "         0.38565596, -0.19942571, -1.06694059, -0.25278425, -1.2837138 ],\n",
       "       [ 1.85727698,  0.6488621 , -0.88475287, -0.04390431,  0.36853804,\n",
       "         0.60241554,  1.28981641, -0.12686927,  0.69146173,  0.82143222,\n",
       "        -2.13827222,  0.17180597,  1.6323133 , -0.54933907,  0.22780401,\n",
       "         2.05866159,  0.88025207, -1.08628309,  1.12718746,  0.35100203],\n",
       "       [-0.33932791, -1.35858162, -0.65812115,  0.10719816,  0.65082486,\n",
       "         0.28724758, -0.25646567, -0.83736926, -0.00347234,  0.55022906,\n",
       "         0.26063705, -0.71902209, -0.73486077,  0.46502309,  0.27149567,\n",
       "        -0.46996358,  0.57106149, -0.40473427,  1.07432822,  1.00196942],\n",
       "       [-0.26817847, -0.62046529,  0.27392382, -0.85627125, -0.44823291,\n",
       "        -0.37076466,  0.14971214,  0.55075448, -0.47045457,  0.3742289 ,\n",
       "        -0.67162089, -0.36051771,  1.3660556 ,  1.05413506, -0.10065204,\n",
       "        -0.64284655,  1.25918244, -0.27374954, -0.77570979,  0.39119353]])"
      ]
     },
     "execution_count": 3,
     "metadata": {},
     "output_type": "execute_result"
    }
   ],
   "source": [
    "#创建个numpy ndarry\n",
    "numpy_tensor=np.random.randn(10,20)\n",
    "numpy_tensor"
   ]
  },
  {
   "cell_type": "code",
   "execution_count": 4,
   "metadata": {
    "collapsed": false
   },
   "outputs": [
    {
     "data": {
      "text/plain": [
       "tensor([[-0.7429,  0.2443,  0.4810,  0.4669, -1.3100,  0.1218,  0.0926,  1.1750,\n",
       "         -1.0018, -0.5204, -0.9192,  0.7068, -0.6050,  1.0858,  0.0197, -1.4689,\n",
       "          0.3875, -1.3127,  2.3160,  0.5261],\n",
       "        [ 0.4966, -0.5933,  0.7074,  0.9249,  0.7733,  1.1007,  1.5461, -0.1369,\n",
       "         -0.6738, -0.7657,  0.5646, -0.4810,  1.2935,  0.4752,  0.7571,  1.3308,\n",
       "          2.7336,  1.1997,  1.8569,  0.3041],\n",
       "        [-0.3945, -0.5311, -0.0162, -0.2740, -0.9369, -0.4845, -0.3517,  2.6152,\n",
       "          0.8621, -2.2154, -0.2371, -1.4168, -0.5508, -1.6457, -0.4540,  1.0028,\n",
       "          0.7798, -2.2473, -0.1398, -0.8477],\n",
       "        [ 0.2741,  0.6639,  1.0927,  0.7808, -1.3011,  0.4604, -1.0114,  0.1996,\n",
       "          0.1705,  0.7434, -0.5150, -1.5450, -0.0821, -1.1191,  1.6490,  0.7287,\n",
       "         -0.8546,  1.1467, -0.2902,  1.7380],\n",
       "        [-0.3742, -0.1446,  0.2526,  0.5225,  0.6254, -1.7751, -0.5243,  0.4311,\n",
       "          0.6599, -0.0723, -0.4066,  1.6756, -0.9292,  0.7516,  0.9642, -1.1211,\n",
       "          1.6642, -0.2348,  1.2322, -0.1168],\n",
       "        [ 1.5746, -0.5087,  0.0725,  0.1453, -0.0472, -1.7924, -0.6701, -0.3354,\n",
       "          0.1934,  0.1503,  0.9650,  0.0742,  0.1655, -0.5056,  0.3852, -0.9645,\n",
       "         -0.0072,  2.0930, -1.6068, -1.4730],\n",
       "        [-0.8798, -0.8922, -0.1070,  0.3281, -1.5619, -0.3160,  0.4793,  0.4775,\n",
       "         -2.7974, -2.3418, -0.1393, -0.2713, -0.0468, -0.6725,  1.1608,  0.3857,\n",
       "         -0.1994, -1.0669, -0.2528, -1.2837],\n",
       "        [ 1.8573,  0.6489, -0.8848, -0.0439,  0.3685,  0.6024,  1.2898, -0.1269,\n",
       "          0.6915,  0.8214, -2.1383,  0.1718,  1.6323, -0.5493,  0.2278,  2.0587,\n",
       "          0.8803, -1.0863,  1.1272,  0.3510],\n",
       "        [-0.3393, -1.3586, -0.6581,  0.1072,  0.6508,  0.2872, -0.2565, -0.8374,\n",
       "         -0.0035,  0.5502,  0.2606, -0.7190, -0.7349,  0.4650,  0.2715, -0.4700,\n",
       "          0.5711, -0.4047,  1.0743,  1.0020],\n",
       "        [-0.2682, -0.6205,  0.2739, -0.8563, -0.4482, -0.3708,  0.1497,  0.5508,\n",
       "         -0.4705,  0.3742, -0.6716, -0.3605,  1.3661,  1.0541, -0.1007, -0.6428,\n",
       "          1.2592, -0.2737, -0.7757,  0.3912]], dtype=torch.float64)"
      ]
     },
     "execution_count": 4,
     "metadata": {},
     "output_type": "execute_result"
    }
   ],
   "source": [
    "#numpy的ndarray转到tensor上\n",
    "pytorch_tensor1=torch.Tensor(numpy_tensor)\n",
    "pytorch_tensor2=torch.from_numpy(numpy_tensor)\n",
    "pytorch_tensor2"
   ]
  },
  {
   "cell_type": "code",
   "execution_count": 5,
   "metadata": {
    "collapsed": true
   },
   "outputs": [],
   "source": [
    "# tensor 转为ndarray \n",
    "numpy_array=pytorch_tensor1.numpy()\n",
    "# GPU\n",
    "numpy_array=pytorch_tensor1.cpu().numpy()"
   ]
  },
  {
   "cell_type": "code",
   "execution_count": null,
   "metadata": {
    "collapsed": false
   },
   "outputs": [],
   "source": [
    "# GPU 上的tensor 要先转为CPU 上的tensor 在转为ndarray\n",
    "# 将tensor 放到GPU 上\n",
    "# 方法1：定义cuda 的数据类型\n",
    "dtype=torch.cuda.FloatTensor\n",
    "gpu_tensor=torch.randn(10,20).type(dtype)\n",
    "\n",
    "#方法2： 可以指定哪个GPU\n",
    "gpu_tensor=torch.randn(10,20).cuda(0) # 将tensor 放到第一个GPU 上\n",
    "gpu_tensor=torch.randn(10,20).cuda(1)#将tensor 放到第一个GPU 上\n"
   ]
  },
  {
   "cell_type": "code",
   "execution_count": null,
   "metadata": {
    "collapsed": false
   },
   "outputs": [],
   "source": [
    "#  将tensor 放回CPU \n",
    "cpu_tensor=gpu_tensor.cpu()"
   ]
  },
  {
   "cell_type": "code",
   "execution_count": 8,
   "metadata": {
    "collapsed": false
   },
   "outputs": [
    {
     "name": "stdout",
     "output_type": "stream",
     "text": [
      "torch.Size([10, 20])\n",
      "torch.Size([10, 20])\n"
     ]
    }
   ],
   "source": [
    "# tensor 的属性\n",
    "#1 大小\n",
    "print(pytorch_tensor1.shape)\n",
    "print(pytorch_tensor1.size())\n"
   ]
  },
  {
   "cell_type": "code",
   "execution_count": 9,
   "metadata": {
    "collapsed": false
   },
   "outputs": [
    {
     "data": {
      "text/plain": [
       "'torch.FloatTensor'"
      ]
     },
     "execution_count": 9,
     "metadata": {},
     "output_type": "execute_result"
    }
   ],
   "source": [
    "# 2 tensor 的数据类型\n",
    "pytorch_tensor1.type()\n"
   ]
  },
  {
   "cell_type": "code",
   "execution_count": 10,
   "metadata": {
    "collapsed": false
   },
   "outputs": [
    {
     "data": {
      "text/plain": [
       "2"
      ]
     },
     "execution_count": 10,
     "metadata": {},
     "output_type": "execute_result"
    }
   ],
   "source": [
    "# 维度\n",
    "pytorch_tensor1.dim()"
   ]
  },
  {
   "cell_type": "code",
   "execution_count": 12,
   "metadata": {
    "collapsed": false
   },
   "outputs": [
    {
     "data": {
      "text/plain": [
       "200"
      ]
     },
     "execution_count": 12,
     "metadata": {},
     "output_type": "execute_result"
    }
   ],
   "source": [
    "# tensor的所有元素个数\n",
    "pytorch_tensor1.numel()"
   ]
  },
  {
   "cell_type": "code",
   "execution_count": 13,
   "metadata": {
    "collapsed": false
   },
   "outputs": [
    {
     "name": "stdout",
     "output_type": "stream",
     "text": [
      "torch.FloatTensor\n"
     ]
    },
    {
     "data": {
      "text/plain": [
       "tensor([[1., 1.],\n",
       "        [1., 1.]])"
      ]
     },
     "execution_count": 13,
     "metadata": {},
     "output_type": "execute_result"
    }
   ],
   "source": [
    "#(2 ) Tensor 的操作\n",
    "x=torch.ones(2,2)\n",
    "print(x.type())\n",
    "x"
   ]
  },
  {
   "cell_type": "code",
   "execution_count": 15,
   "metadata": {
    "collapsed": false
   },
   "outputs": [
    {
     "name": "stdout",
     "output_type": "stream",
     "text": [
      "torch.LongTensor\n"
     ]
    },
    {
     "data": {
      "text/plain": [
       "tensor([[1, 1],\n",
       "        [1, 1]])"
      ]
     },
     "execution_count": 15,
     "metadata": {},
     "output_type": "execute_result"
    }
   ],
   "source": [
    "# 1 转化为整形\n",
    "x=x.long()\n",
    "print(x.type())\n",
    "x"
   ]
  },
  {
   "cell_type": "code",
   "execution_count": 16,
   "metadata": {
    "collapsed": false
   },
   "outputs": [
    {
     "name": "stdout",
     "output_type": "stream",
     "text": [
      "torch.FloatTensor\n"
     ]
    },
    {
     "data": {
      "text/plain": [
       "tensor([[1., 1.],\n",
       "        [1., 1.]])"
      ]
     },
     "execution_count": 16,
     "metadata": {},
     "output_type": "execute_result"
    }
   ],
   "source": [
    "#2 再转为float \n",
    "x=x.float()\n",
    "print(x.type())\n",
    "x"
   ]
  },
  {
   "cell_type": "code",
   "execution_count": 20,
   "metadata": {
    "collapsed": false
   },
   "outputs": [
    {
     "name": "stdout",
     "output_type": "stream",
     "text": [
      "tensor([[ 1.2664,  1.7281, -1.5027],\n",
      "        [ 0.6775,  0.9009,  0.4750],\n",
      "        [ 1.9039,  0.5167, -0.1885],\n",
      "        [-0.7454,  0.0837, -0.5801]])\n"
     ]
    },
    {
     "data": {
      "text/plain": [
       "(tensor([1.7281, 0.9009, 1.9039, 0.0837]), tensor([1, 1, 0, 1]))"
      ]
     },
     "execution_count": 20,
     "metadata": {},
     "output_type": "execute_result"
    }
   ],
   "source": [
    "# 3 沿着行取最大值\n",
    "x=torch.randn(4,3)\n",
    "print(x)\n",
    "max_value,max_idx=torch.max(x,dim=1)\n",
    "max_value,max_idx #每一行的最大值，每一行最大值的下标\n"
   ]
  },
  {
   "cell_type": "code",
   "execution_count": 21,
   "metadata": {
    "collapsed": false
   },
   "outputs": [
    {
     "name": "stdout",
     "output_type": "stream",
     "text": [
      "tensor([ 1.4918,  2.0534,  2.2320, -1.2417])\n"
     ]
    }
   ],
   "source": [
    "# 沿着行对x 求和\n",
    "sum_x=torch.sum(x,dim=1)\n",
    "print(sum_x)"
   ]
  },
  {
   "cell_type": "code",
   "execution_count": 22,
   "metadata": {
    "collapsed": false
   },
   "outputs": [
    {
     "name": "stdout",
     "output_type": "stream",
     "text": [
      "torch.Size([4, 3])\n"
     ]
    },
    {
     "data": {
      "text/plain": [
       "torch.Size([1, 4, 3])"
      ]
     },
     "execution_count": 22,
     "metadata": {},
     "output_type": "execute_result"
    }
   ],
   "source": [
    "# 增加维度或者减少维度\n",
    "print(x.shape)\n",
    "x=x.unsqueeze(0) # 在第一维增加\n",
    "x.shape"
   ]
  },
  {
   "cell_type": "code",
   "execution_count": 23,
   "metadata": {
    "collapsed": false
   },
   "outputs": [
    {
     "data": {
      "text/plain": [
       "torch.Size([1, 1, 4, 3])"
      ]
     },
     "execution_count": 23,
     "metadata": {},
     "output_type": "execute_result"
    }
   ],
   "source": [
    "x=x.unsqueeze(1)# 在第二维增加\n",
    "x.shape"
   ]
  },
  {
   "cell_type": "code",
   "execution_count": 24,
   "metadata": {
    "collapsed": false
   },
   "outputs": [
    {
     "data": {
      "text/plain": [
       "torch.Size([1, 4, 3])"
      ]
     },
     "execution_count": 24,
     "metadata": {},
     "output_type": "execute_result"
    }
   ],
   "source": [
    "x=x.squeeze(0)# 减少第一维\n",
    "x.shape"
   ]
  },
  {
   "cell_type": "code",
   "execution_count": 26,
   "metadata": {
    "collapsed": false
   },
   "outputs": [
    {
     "data": {
      "text/plain": [
       "torch.Size([4, 3])"
      ]
     },
     "execution_count": 26,
     "metadata": {},
     "output_type": "execute_result"
    }
   ],
   "source": [
    "x=x.squeeze()\n",
    "x.shape"
   ]
  },
  {
   "cell_type": "code",
   "execution_count": 27,
   "metadata": {
    "collapsed": false
   },
   "outputs": [
    {
     "name": "stdout",
     "output_type": "stream",
     "text": [
      "torch.Size([3, 4, 5])\n",
      "torch.Size([4, 3, 5])\n",
      "torch.Size([5, 3, 4])\n"
     ]
    }
   ],
   "source": [
    "x=torch.randn(3,4,5)\n",
    "print(x.shape)\n",
    "# 使用 permute 和transpose 进行维度交换\n",
    "x=x.permute(1,0,2) # permute  可以重新排列tensor 的维度\n",
    "print(x.shape)\n",
    "\n",
    "x=x.transpose(0,2) # transpose 交换tensor 中的两个维度\n",
    "print(x.shape)\n"
   ]
  },
  {
   "cell_type": "code",
   "execution_count": 28,
   "metadata": {
    "collapsed": false
   },
   "outputs": [
    {
     "name": "stdout",
     "output_type": "stream",
     "text": [
      "torch.Size([3, 4, 5])\n",
      "torch.Size([12, 5])\n"
     ]
    },
    {
     "data": {
      "text/plain": [
       "torch.Size([3, 20])"
      ]
     },
     "execution_count": 28,
     "metadata": {},
     "output_type": "execute_result"
    }
   ],
   "source": [
    "# 使用view 对tensor 进行reshape\n",
    "x=torch.randn(3,4,5)\n",
    "print(x.shape)\n",
    "x=x.view(-1,5)\n",
    "print(x.shape)\n",
    "x=x.view(3,20)\n",
    "x.shape"
   ]
  },
  {
   "cell_type": "code",
   "execution_count": 29,
   "metadata": {
    "collapsed": true
   },
   "outputs": [],
   "source": [
    "x=torch.randn(3,4)\n",
    "y=torch.randn(3,4)\n",
    "z=x+y\n"
   ]
  },
  {
   "cell_type": "code",
   "execution_count": 30,
   "metadata": {
    "collapsed": false
   },
   "outputs": [
    {
     "name": "stdout",
     "output_type": "stream",
     "text": [
      "torch.Size([3, 3])\n",
      "torch.Size([1, 3, 3])\n",
      "torch.Size([3, 1, 3])\n"
     ]
    }
   ],
   "source": [
    "(3 )# 支持切片操作,内部替换\n",
    "x=torch.randn(3,3)\n",
    "print(x.shape)\n",
    "x.unsqueeze_(0)\n",
    "print(x.shape)\n",
    "x.transpose_(1,0)\n",
    "print(x.shape)"
   ]
  },
  {
   "cell_type": "code",
   "execution_count": 32,
   "metadata": {
    "collapsed": false
   },
   "outputs": [
    {
     "name": "stdout",
     "output_type": "stream",
     "text": [
      "tensor([[[ 1.4860,  1.5093,  1.2514]],\n",
      "\n",
      "        [[-1.7062,  0.5125, -0.8247]],\n",
      "\n",
      "        [[ 1.2999,  0.1604, -0.6341]]])\n",
      "tensor([[[ 2.9720,  3.0185,  2.5028]],\n",
      "\n",
      "        [[-3.4124,  1.0251, -1.6495]],\n",
      "\n",
      "        [[ 2.5997,  0.3208, -1.2683]]])\n"
     ]
    }
   ],
   "source": [
    "print(x) \n",
    "x.add_(x)\n",
    "print(x)"
   ]
  },
  {
   "cell_type": "code",
   "execution_count": 33,
   "metadata": {
    "collapsed": false
   },
   "outputs": [
    {
     "name": "stdout",
     "output_type": "stream",
     "text": [
      "tensor(8.8793)\n",
      "<SumBackward0 object at 0x000001ED797C8160>\n"
     ]
    }
   ],
   "source": [
    "#(4) Variable,是对tensor的封装，操作和tensor 一样，并有三个属性，Vairable 中的tensor 的.data,对应tensor 的梯度.grad,以及这个Variable 是通过什么方式获得的。\n",
    "#.grad_fn\n",
    "\n",
    "from torch.autograd import Variable\n",
    "x_tensor=torch.randn(10,5)\n",
    "y_tensor=torch.randn(10,5)\n",
    "# 将tensor 变成 Variable\n",
    "x=Variable(x_tensor,requires_grad=True)\n",
    "y=Variable(y_tensor,requires_grad=True)\n",
    "z=torch.sum(x+y)\n",
    "print(z.data)\n",
    "print(z.grad_fn) # 由sum的方式得到\n"
   ]
  },
  {
   "cell_type": "code",
   "execution_count": 34,
   "metadata": {
    "collapsed": false
   },
   "outputs": [
    {
     "name": "stdout",
     "output_type": "stream",
     "text": [
      "tensor([[1., 1., 1., 1., 1.],\n",
      "        [1., 1., 1., 1., 1.],\n",
      "        [1., 1., 1., 1., 1.],\n",
      "        [1., 1., 1., 1., 1.],\n",
      "        [1., 1., 1., 1., 1.],\n",
      "        [1., 1., 1., 1., 1.],\n",
      "        [1., 1., 1., 1., 1.],\n",
      "        [1., 1., 1., 1., 1.],\n",
      "        [1., 1., 1., 1., 1.],\n",
      "        [1., 1., 1., 1., 1.]])\n",
      "tensor([[1., 1., 1., 1., 1.],\n",
      "        [1., 1., 1., 1., 1.],\n",
      "        [1., 1., 1., 1., 1.],\n",
      "        [1., 1., 1., 1., 1.],\n",
      "        [1., 1., 1., 1., 1.],\n",
      "        [1., 1., 1., 1., 1.],\n",
      "        [1., 1., 1., 1., 1.],\n",
      "        [1., 1., 1., 1., 1.],\n",
      "        [1., 1., 1., 1., 1.],\n",
      "        [1., 1., 1., 1., 1.]])\n"
     ]
    }
   ],
   "source": [
    "z.backward()\n",
    "# x和y的梯度\n",
    "print(x.grad)\n",
    "print(y.grad)"
   ]
  },
  {
   "cell_type": "code",
   "execution_count": 37,
   "metadata": {
    "collapsed": false
   },
   "outputs": [
    {
     "data": {
      "image/png": "[encoded data removed]",
      "text/plain": [
       "<matplotlib.figure.Figure at 0x1ed7b0a1a58>"
      ]
     },
     "metadata": {},
     "output_type": "display_data"
    }
   ],
   "source": [
    "# 练习 尝试构建函数y=x2,然后求x=2的导数\n",
    "import matplotlib.pyplot as  plt\n",
    "x=np.arange(-3,3.01,0.1)\n",
    "y=x**2\n",
    "# 图像\n",
    "plt.plot(x,y)\n",
    "plt.plot(2,4,\"ro\")\n",
    "plt.show()\n"
   ]
  },
  {
   "cell_type": "code",
   "execution_count": 39,
   "metadata": {
    "collapsed": false
   },
   "outputs": [
    {
     "name": "stdout",
     "output_type": "stream",
     "text": [
      "tensor([4.])\n"
     ]
    }
   ],
   "source": [
    "x=Variable(torch.FloatTensor([2]),requires_grad=True)\n",
    "y=x**2\n",
    "y.backward()\n",
    "print(x.grad)"
   ]
  },
  {
   "cell_type": "code",
   "execution_count": null,
   "metadata": {
    "collapsed": true
   },
   "outputs": [],
   "source": []
  },
  {
   "cell_type": "code",
   "execution_count": null,
   "metadata": {
    "collapsed": true
   },
   "outputs": [],
   "source": []
  }
 ],
 "metadata": {
  "anaconda-cloud": {},
  "kernelspec": {
   "display_name": "Python [conda root]",
   "language": "python",
   "name": "conda-root-py"
  },
  "language_info": {
   "codemirror_mode": {
    "name": "ipython",
    "version": 3
   },
   "file_extension": ".py",
   "mimetype": "text/x-python",
   "name": "python",
   "nbconvert_exporter": "python",
   "pygments_lexer": "ipython3",
   "version": "3.5.6"
  }
 },
 "nbformat": 4,
 "nbformat_minor": 0
}
