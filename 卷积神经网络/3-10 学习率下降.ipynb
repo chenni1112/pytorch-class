{
 "cells": [
  {
   "cell_type": "code",
   "execution_count": 16,
   "metadata": {
    "collapsed": false
   },
   "outputs": [],
   "source": [
    "# 使用torch.optim.lr_scheduler\n",
    "\n",
    "import numpy as np\n",
    "import torch\n",
    "from torch import nn\n",
    "import torch.nn.functional as F\n",
    "from torch.autograd import Variable\n",
    "from torchvision.datasets import CIFAR10\n",
    "from utils1 import resnet\n",
    "from torchvision import transforms as tfs\n",
    "from datetime import datetime\n",
    "# from torchvision import models"
   ]
  },
  {
   "cell_type": "code",
   "execution_count": 17,
   "metadata": {
    "collapsed": false
   },
   "outputs": [],
   "source": [
    "net=resnet(3,10)\n",
    "optimizer=torch.optim.SGD(net.parameters(),lr=0.01,weight_decay=1e-4)"
   ]
  },
  {
   "cell_type": "code",
   "execution_count": 18,
   "metadata": {
    "collapsed": false
   },
   "outputs": [
    {
     "name": "stdout",
     "output_type": "stream",
     "text": [
      "0.01\n",
      "0.0001\n"
     ]
    }
   ],
   "source": [
    "#可以通过optimizer.param_groups 来得到所有的参数组和其对应的属性，参数组就是可以将模型分为几个组，每个组定义一个学习率，\n",
    "print(optimizer.param_groups[0][\"lr\"])\n",
    "print(optimizer.param_groups[0][\"weight_decay\"])"
   ]
  },
  {
   "cell_type": "code",
   "execution_count": 19,
   "metadata": {
    "collapsed": true
   },
   "outputs": [],
   "source": [
    "# 可以通过这个属性，改变训练过程中的学习率\n",
    "optimizer.param_groups[0][\"lr\"]=1e-5"
   ]
  },
  {
   "cell_type": "code",
   "execution_count": 22,
   "metadata": {
    "collapsed": false
   },
   "outputs": [],
   "source": [
    "# 多个参数组可以使用循环\n",
    "for param_group in optimizer.param_groups:\n",
    "    param_group[\"lr\"]=0.01"
   ]
  },
  {
   "cell_type": "code",
   "execution_count": 23,
   "metadata": {
    "collapsed": true
   },
   "outputs": [],
   "source": [
    "def set_learning_rate(optimizer,lr):\n",
    "    for param_group in optimizer.param_groups:\n",
    "        param_group[\"lr\"]=lr"
   ]
  },
  {
   "cell_type": "code",
   "execution_count": null,
   "metadata": {
    "collapsed": false
   },
   "outputs": [],
   "source": [
    "# epoch =20 的时候修改学习率\n",
    "if epoch ==20:\n",
    "    set_learning_rate(optimizer，0.01)"
   ]
  },
  {
   "cell_type": "code",
   "execution_count": null,
   "metadata": {
    "collapsed": true
   },
   "outputs": [],
   "source": []
  }
 ],
 "metadata": {
  "anaconda-cloud": {},
  "kernelspec": {
   "display_name": "Python [conda env:Anaconda3]",
   "language": "python",
   "name": "conda-env-Anaconda3-py"
  },
  "language_info": {
   "codemirror_mode": {
    "name": "ipython",
    "version": 3
   },
   "file_extension": ".py",
   "mimetype": "text/x-python",
   "name": "python",
   "nbconvert_exporter": "python",
   "pygments_lexer": "ipython3",
   "version": "3.5.6"
  }
 },
 "nbformat": 4,
 "nbformat_minor": 1
}
