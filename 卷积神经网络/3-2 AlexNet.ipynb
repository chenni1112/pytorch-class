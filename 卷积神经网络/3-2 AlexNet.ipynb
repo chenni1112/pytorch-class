{
 "cells": [
  {
   "cell_type": "code",
   "execution_count": 1,
   "metadata": {
    "collapsed": true
   },
   "outputs": [],
   "source": [
    "# ALexNet 是几个卷积池化堆叠后连接几个全连接层\n",
    "import torch\n",
    "from torch import nn\n",
    "import numpy as np\n",
    "from torch.autograd import Variable\n",
    "from torchvision.datasets import CIFAR10\n"
   ]
  },
  {
   "cell_type": "code",
   "execution_count": 19,
   "metadata": {
    "collapsed": false
   },
   "outputs": [],
   "source": [
    "class AlexNet(nn.Module):\n",
    "    def __init__(self):\n",
    "        super().__init__()\n",
    "        # 第一层是5*5 的卷积，输入的是channels 是3，输出的channels是64，步长为1，没有padding\n",
    "        self.conv1=nn.Sequential(\n",
    "        nn.Conv2d(3,64,5),\n",
    "        nn.ReLU(True))\n",
    "        # 第二层是3*3 的池化，步长为2，没有padding\n",
    "        self.max_pool1=nn.MaxPool2d(3,2)\n",
    "        # 第三层是5*5 的卷积，输入的channels 是64，输出的channels 是64，步长是1，没有padding。\n",
    "        \n",
    "        self.conv2=nn.Sequential(\n",
    "            nn.Conv2d(64,64,5,1),\n",
    "            nn.ReLU(True)\n",
    "        \n",
    "        )\n",
    "        # 第四层 是3*3 的池化，步长为2，没有padding\n",
    "        self.max_pool2=nn.MaxPool2d(3,2)\n",
    "        \n",
    "        # 第五层是全连接层，输入是2，输出是384\n",
    "        self.fc1=nn.Sequential(\n",
    "            nn.Linear(1024,384),\n",
    "            nn.ReLU(True)\n",
    "            \n",
    "            \n",
    "        )\n",
    "        # 第六层全连接层，输入384，输出192\n",
    "        self.fc2=nn.Sequential(\n",
    "            nn.Linear(384,192),\n",
    "            nn.ReLU(True)\n",
    "        \n",
    "        )\n",
    "        # 第七层全连接层，输入192，输出是10\n",
    "        self.fc3=nn.Linear(192,10)\n",
    "    def forward(self,x):\n",
    "        x=self.conv1(x)\n",
    "        x=self.max_pool1(x)\n",
    "        x=self.conv2(x)\n",
    "        x=self.max_pool2(x)\n",
    "        # 将矩阵拉平\n",
    "        x=x.view(x.shape[0],-1)\n",
    "        x=self.fc1(x)\n",
    "        x=self.fc2(x)\n",
    "        x=self.fc3(x)\n",
    "        return x\n"
   ]
  },
  {
   "cell_type": "code",
   "execution_count": null,
   "metadata": {
    "collapsed": true
   },
   "outputs": [],
   "source": [
    "\n"
   ]
  },
  {
   "cell_type": "code",
   "execution_count": 20,
   "metadata": {
    "collapsed": false
   },
   "outputs": [],
   "source": [
    "alexnet=AlexNet()"
   ]
  },
  {
   "cell_type": "code",
   "execution_count": 21,
   "metadata": {
    "collapsed": false
   },
   "outputs": [
    {
     "data": {
      "text/plain": [
       "AlexNet(\n",
       "  (conv1): Sequential(\n",
       "    (0): Conv2d(3, 64, kernel_size=(5, 5), stride=(1, 1))\n",
       "    (1): ReLU(inplace)\n",
       "  )\n",
       "  (max_pool1): MaxPool2d(kernel_size=3, stride=2, padding=0, dilation=1, ceil_mode=False)\n",
       "  (conv2): Sequential(\n",
       "    (0): Conv2d(64, 64, kernel_size=(5, 5), stride=(1, 1))\n",
       "    (1): ReLU(inplace)\n",
       "  )\n",
       "  (max_pool2): MaxPool2d(kernel_size=3, stride=2, padding=0, dilation=1, ceil_mode=False)\n",
       "  (fc1): Sequential(\n",
       "    (0): Linear(in_features=1024, out_features=384, bias=True)\n",
       "    (1): ReLU(inplace)\n",
       "  )\n",
       "  (fc2): Sequential(\n",
       "    (0): Linear(in_features=384, out_features=192, bias=True)\n",
       "    (1): ReLU(inplace)\n",
       "  )\n",
       "  (fc3): Linear(in_features=192, out_features=10, bias=True)\n",
       ")"
      ]
     },
     "execution_count": 21,
     "metadata": {},
     "output_type": "execute_result"
    }
   ],
   "source": [
    "alexnet"
   ]
  },
  {
   "cell_type": "code",
   "execution_count": 22,
   "metadata": {
    "collapsed": false
   },
   "outputs": [
    {
     "name": "stdout",
     "output_type": "stream",
     "text": [
      "torch.Size([1, 10])\n"
     ]
    }
   ],
   "source": [
    "# 输入一张32*32 的图片，看看输出\n",
    "input_demo=Variable(torch.zeros(1,3,32,32))\n",
    "output_demo=alexnet(input_demo)\n",
    "print(output_demo.shape)"
   ]
  },
  {
   "cell_type": "code",
   "execution_count": null,
   "metadata": {
    "collapsed": true
   },
   "outputs": [],
   "source": [
    "from utils import train\n",
    "\n",
    "def data_tf(x):\n",
    "    x=np.array(x,dtype=\"float32\")/255\n",
    "    x=(x-0.5)/0.5\n",
    "    x=x.transpose((2,0,1) ) # 将channel 放到第一维，\n",
    "    x=torch.from_numpy(x)\n",
    "    return x\n",
    "\n",
    "train_set=CIFAR10(\"./data\",train=True,transform=data_tf)\n",
    "train_data=torch.utils.data.DataLoader(train_set,batch_size=64,shuffle=True)\n",
    "test_set=CIFAR10(\"./data\",train=False,transform=data_tf)\n",
    "test_data=torch.utils.data.DataLoader(test_set,batch_size=128,shuffle=False)\n",
    "net=AlexNet()\n",
    "optimizer=torch.optim.SGD(net.parameters(),lr=1e-1)\n",
    "criterion=nn.CrossEntropyLoss()\n"
   ]
  },
  {
   "cell_type": "code",
   "execution_count": null,
   "metadata": {
    "collapsed": true
   },
   "outputs": [],
   "source": [
    "train(net,train_data,test_data,20,optimizer,criterion)"
   ]
  }
 ],
 "metadata": {
  "kernelspec": {
   "display_name": "Python [conda env:Anaconda3]",
   "language": "python",
   "name": "conda-env-Anaconda3-py"
  },
  "language_info": {
   "codemirror_mode": {
    "name": "ipython",
    "version": 3
   },
   "file_extension": ".py",
   "mimetype": "text/x-python",
   "name": "python",
   "nbconvert_exporter": "python",
   "pygments_lexer": "ipython3",
   "version": "3.5.6"
  }
 },
 "nbformat": 4,
 "nbformat_minor": 1
}
