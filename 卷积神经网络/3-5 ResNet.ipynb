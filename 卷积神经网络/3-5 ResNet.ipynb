{
 "cells": [
  {
   "cell_type": "code",
   "execution_count": 6,
   "metadata": {
    "collapsed": true
   },
   "outputs": [],
   "source": [
    "# 使用残差结构\n",
    "import torch\n",
    "from torch import nn\n",
    "import numpy as np\n",
    "import torch.nn.functional as F\n",
    "from torch.autograd import Variable\n",
    "from torchvision.datasets import CIFAR10"
   ]
  },
  {
   "cell_type": "code",
   "execution_count": 2,
   "metadata": {
    "collapsed": true
   },
   "outputs": [],
   "source": [
    "def conv3x3(in_channel,out_channel,stride=1):\n",
    "    return nn.Conv2d(in_channel,out_channel,3,stride=stride,padding=1,bias=False)\n"
   ]
  },
  {
   "cell_type": "code",
   "execution_count": 10,
   "metadata": {
    "collapsed": false
   },
   "outputs": [],
   "source": [
    "class residual_block(nn.Module):\n",
    "    def __init__(self,in_channel,out_channel,same_shape=True):\n",
    "        super(residual_block,self).__init__()\n",
    "        self.same_shape=same_shape\n",
    "        stride=1 if self.same_shape else 2\n",
    "        self.conv1=conv3x3(in_channel,out_channel,stride=stride)\n",
    "        self.bn1=nn.BatchNorm2d(out_channel)\n",
    "        \n",
    "        self.conv2=conv3x3(out_channel,out_channel)\n",
    "        self.bn2=nn.BatchNorm2d(out_channel)     \n",
    "        if not self.same_shape:\n",
    "            self.conv3=nn.Conv2d(in_channel,out_channel,1,stride=stride)\n",
    "    def forward(self,x):\n",
    "        out=self.conv1(x)\n",
    "        out=F.relu(self.bn1(out),True)\n",
    "        out=self.conv2(out)\n",
    "        out=F.relu(self.bn2(out),True)\n",
    "        if not self.same_shape:\n",
    "            x=self.conv3(x)\n",
    "        return F.relu(x+out,True)\n",
    "        "
   ]
  },
  {
   "cell_type": "code",
   "execution_count": 11,
   "metadata": {
    "collapsed": false
   },
   "outputs": [
    {
     "name": "stdout",
     "output_type": "stream",
     "text": [
      "torch.Size([1, 32, 96, 96])\n",
      "torch.Size([1, 32, 96, 96])\n"
     ]
    }
   ],
   "source": [
    "# 测试residual block 的输入和输出\n",
    "# 输入输出形状相同\n",
    "test_net=residual_block(32,32)\n",
    "test_x=Variable(torch.zeros(1,32,96,96))\n",
    "print(test_x.shape)\n",
    "test_y=test_net(test_x)\n",
    "print(test_y.shape)\n"
   ]
  },
  {
   "cell_type": "code",
   "execution_count": 12,
   "metadata": {
    "collapsed": false
   },
   "outputs": [
    {
     "name": "stdout",
     "output_type": "stream",
     "text": [
      "torch.Size([1, 32, 96, 96])\n",
      "torch.Size([1, 32, 48, 48])\n"
     ]
    }
   ],
   "source": [
    "# 输入输出形状不同\n",
    "test_net=residual_block(32,32,False)\n",
    "test_x=Variable(torch.zeros(1,32,96,96))\n",
    "print(test_x.shape)\n",
    "test_y=test_net(test_x)\n",
    "print(test_y.shape)"
   ]
  },
  {
   "cell_type": "code",
   "execution_count": 14,
   "metadata": {
    "collapsed": false
   },
   "outputs": [],
   "source": [
    "# 完整Resnet 他是residual ，residual block 模块的堆叠\n",
    "class resnet(nn.Module):\n",
    "    def __init__(self,in_channel,num_classes,verbose=False):\n",
    "        super(resnet,self).__init__()\n",
    "        self.verbose=verbose\n",
    "        self.block1=nn.Conv2d(in_channel,64,7,2)\n",
    "        self.block2=nn.Sequential(\n",
    "            nn.MaxPool2d(3,2),\n",
    "            residual_block(64,64),\n",
    "            residual_block(64,64)\n",
    "        \n",
    "        \n",
    "        )\n",
    "        self.block3=nn.Sequential(\n",
    "            residual_block(64,128,False),\n",
    "            residual_block(128,128)\n",
    "        \n",
    "        )\n",
    "        self.block4=nn.Sequential(\n",
    "            residual_block(128,256,False),\n",
    "            residual_block(256,256)\n",
    "        \n",
    "        )\n",
    "        self.block5=nn.Sequential(\n",
    "            residual_block(256,512,False),\n",
    "            residual_block(512,512),\n",
    "            nn.AvgPool2d(3)\n",
    "        \n",
    "        )\n",
    "        self.classifier=nn.Linear(512,num_classes)\n",
    "    def forward(self,x):\n",
    "        x=self.block1(x)\n",
    "        if self.verbose:\n",
    "            print(x.shape)\n",
    "        x=self.block2(x)\n",
    "        if self.verbose:\n",
    "            print(x.shape)\n",
    "        x=self.block3(x)\n",
    "        if self.verbose:\n",
    "            print(x.shape)\n",
    "        x=self.block4(x)\n",
    "        if self.verbose:\n",
    "            print(x.shape)\n",
    "        x=self.block5(x)\n",
    "        if self.verbose:\n",
    "            print(x.shape)\n",
    "        x=x.view(x.shape[0],-1)\n",
    "        x=self.classifier(x)\n",
    "        return x"
   ]
  },
  {
   "cell_type": "code",
   "execution_count": 15,
   "metadata": {
    "collapsed": false
   },
   "outputs": [
    {
     "name": "stdout",
     "output_type": "stream",
     "text": [
      "torch.Size([1, 64, 45, 45])\n",
      "torch.Size([1, 64, 22, 22])\n",
      "torch.Size([1, 128, 11, 11])\n",
      "torch.Size([1, 256, 6, 6])\n",
      "torch.Size([1, 512, 1, 1])\n",
      "torch.Size([1, 10])\n"
     ]
    }
   ],
   "source": [
    "test_net=resnet(3,10,True)\n",
    "test_x=Variable(torch.zeros(1,3,96,96))\n",
    "test_y=test_net(test_x)\n",
    "print(test_y.shape)"
   ]
  },
  {
   "cell_type": "code",
   "execution_count": null,
   "metadata": {
    "collapsed": true
   },
   "outputs": [],
   "source": []
  }
 ],
 "metadata": {
  "kernelspec": {
   "display_name": "Python [conda env:Anaconda3]",
   "language": "python",
   "name": "conda-env-Anaconda3-py"
  },
  "language_info": {
   "codemirror_mode": {
    "name": "ipython",
    "version": 3
   },
   "file_extension": ".py",
   "mimetype": "text/x-python",
   "name": "python",
   "nbconvert_exporter": "python",
   "pygments_lexer": "ipython3",
   "version": "3.5.6"
  }
 },
 "nbformat": 4,
 "nbformat_minor": 1
}
